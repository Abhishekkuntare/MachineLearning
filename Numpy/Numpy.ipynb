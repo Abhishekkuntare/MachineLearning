{
 "cells": [
  {
   "cell_type": "code",
   "execution_count": 1,
   "id": "232f7b00",
   "metadata": {},
   "outputs": [],
   "source": [
    "#1.creating numpy n-d/array\n",
    "import numpy as np"
   ]
  },
  {
   "cell_type": "code",
   "execution_count": 2,
   "id": "aa6e9b60",
   "metadata": {},
   "outputs": [
    {
     "data": {
      "text/plain": [
       "array([1, 3, 5, 6])"
      ]
     },
     "execution_count": 2,
     "metadata": {},
     "output_type": "execute_result"
    }
   ],
   "source": [
    "arr1=np.array([1,3,5,6]) #1.method\n",
    "arr1"
   ]
  },
  {
   "cell_type": "code",
   "execution_count": 3,
   "id": "62ceed61",
   "metadata": {},
   "outputs": [
    {
     "data": {
      "text/plain": [
       "numpy.ndarray"
      ]
     },
     "execution_count": 3,
     "metadata": {},
     "output_type": "execute_result"
    }
   ],
   "source": [
    "type(arr1)"
   ]
  },
  {
   "cell_type": "code",
   "execution_count": 4,
   "id": "0c98dc60",
   "metadata": {},
   "outputs": [
    {
     "data": {
      "text/plain": [
       "array([[1, 2, 3],\n",
       "       [1, 2, 3]])"
      ]
     },
     "execution_count": 4,
     "metadata": {},
     "output_type": "execute_result"
    }
   ],
   "source": [
    "arr2 = np.array([[1,2,3],[1,2,3]])#2.method 2d array\n",
    "arr2"
   ]
  },
  {
   "cell_type": "code",
   "execution_count": 5,
   "id": "456bc5a6",
   "metadata": {},
   "outputs": [
    {
     "data": {
      "text/plain": [
       "array([[0., 0., 0.],\n",
       "       [0., 0., 0.]])"
      ]
     },
     "execution_count": 5,
     "metadata": {},
     "output_type": "execute_result"
    }
   ],
   "source": [
    "#for initailzing the array use the zeros function #3.method\n",
    "arr4 = np.zeros((2,3))#2 is the row and 3 is col(it is inside the shape of tuple)give's a empty array\n",
    "arr4"
   ]
  },
  {
   "cell_type": "code",
   "execution_count": 6,
   "id": "a94166eb",
   "metadata": {},
   "outputs": [
    {
     "data": {
      "text/plain": [
       "array([[1., 1., 1.],\n",
       "       [1., 1., 1.],\n",
       "       [1., 1., 1.]])"
      ]
     },
     "execution_count": 6,
     "metadata": {},
     "output_type": "execute_result"
    }
   ],
   "source": [
    "arr5= np.ones((3,3))#by default it is a float #4.method\n",
    "arr5"
   ]
  },
  {
   "cell_type": "code",
   "execution_count": 7,
   "id": "f5f16bb8",
   "metadata": {},
   "outputs": [
    {
     "data": {
      "text/plain": [
       "array([[1., 0., 0., 0., 0.],\n",
       "       [0., 1., 0., 0., 0.],\n",
       "       [0., 0., 1., 0., 0.],\n",
       "       [0., 0., 0., 1., 0.],\n",
       "       [0., 0., 0., 0., 1.]])"
      ]
     },
     "execution_count": 7,
     "metadata": {},
     "output_type": "execute_result"
    }
   ],
   "source": [
    "arr6 = np.identity(5)# this matrix print digonally one's and remaning are zero's #5.method\n",
    "arr6"
   ]
  },
  {
   "cell_type": "code",
   "execution_count": 8,
   "id": "3b3c1217",
   "metadata": {},
   "outputs": [
    {
     "data": {
      "text/plain": [
       "array([0, 1, 2, 3, 4, 5, 6, 7, 8, 9])"
      ]
     },
     "execution_count": 8,
     "metadata": {},
     "output_type": "execute_result"
    }
   ],
   "source": [
    "arr7 = np.arange(10)#it will be create a array range in a given range #6.method\n",
    "arr7"
   ]
  },
  {
   "cell_type": "code",
   "execution_count": 9,
   "id": "1506bdd0",
   "metadata": {},
   "outputs": [
    {
     "data": {
      "text/plain": [
       "array([10.        , 11.11111111, 12.22222222, 13.33333333, 14.44444444,\n",
       "       15.55555556, 16.66666667, 17.77777778, 18.88888889, 20.        ])"
      ]
     },
     "execution_count": 9,
     "metadata": {},
     "output_type": "execute_result"
    }
   ],
   "source": [
    "arr8 = np.linspace(10,20,10)#7.method start index is 10,ending index 20 and their data will be 0 to 9\n",
    "arr8"
   ]
  },
  {
   "cell_type": "code",
   "execution_count": 10,
   "id": "7ead9c61",
   "metadata": {},
   "outputs": [
    {
     "data": {
      "text/plain": [
       "array([3, 3])"
      ]
     },
     "execution_count": 10,
     "metadata": {},
     "output_type": "execute_result"
    }
   ],
   "source": [
    "arr10 = np.array([3,3])#8.method\n",
    "arr11 = arr10.copy() #copy the array\n",
    "arr11"
   ]
  },
  {
   "cell_type": "code",
   "execution_count": 11,
   "id": "1ee5b966",
   "metadata": {},
   "outputs": [],
   "source": [
    "# 2.Array Properties and atributes------------------------------------------------------------"
   ]
  },
  {
   "cell_type": "code",
   "execution_count": 12,
   "id": "950beecb",
   "metadata": {},
   "outputs": [
    {
     "data": {
      "text/plain": [
       "array([1, 3, 5, 6])"
      ]
     },
     "execution_count": 12,
     "metadata": {},
     "output_type": "execute_result"
    }
   ],
   "source": [
    "arr1 # we can used here prev one"
   ]
  },
  {
   "cell_type": "code",
   "execution_count": 13,
   "id": "beaad4a6",
   "metadata": {},
   "outputs": [
    {
     "data": {
      "text/plain": [
       "(4,)"
      ]
     },
     "execution_count": 13,
     "metadata": {},
     "output_type": "execute_result"
    }
   ],
   "source": [
    "#shape is an attribute \n",
    "arr1.shape # which is 4 col and 0 row"
   ]
  },
  {
   "cell_type": "code",
   "execution_count": 14,
   "id": "f40d67d8",
   "metadata": {},
   "outputs": [
    {
     "data": {
      "text/plain": [
       "array([[1, 2, 3],\n",
       "       [1, 2, 3]])"
      ]
     },
     "execution_count": 14,
     "metadata": {},
     "output_type": "execute_result"
    }
   ],
   "source": [
    "arr2"
   ]
  },
  {
   "cell_type": "code",
   "execution_count": 15,
   "id": "a3f2d647",
   "metadata": {},
   "outputs": [
    {
     "data": {
      "text/plain": [
       "(2, 3)"
      ]
     },
     "execution_count": 15,
     "metadata": {},
     "output_type": "execute_result"
    }
   ],
   "source": [
    "arr2.shape"
   ]
  },
  {
   "cell_type": "code",
   "execution_count": 16,
   "id": "5376e11d",
   "metadata": {},
   "outputs": [
    {
     "data": {
      "text/plain": [
       "array([[1, 2, 3],\n",
       "       [1, 2, 3]])"
      ]
     },
     "execution_count": 16,
     "metadata": {},
     "output_type": "execute_result"
    }
   ],
   "source": [
    "arr12 = np.array([[1,2,3],[1,2,3]])\n",
    "arr12"
   ]
  },
  {
   "cell_type": "code",
   "execution_count": 17,
   "id": "abc90a4d",
   "metadata": {},
   "outputs": [
    {
     "data": {
      "text/plain": [
       "array([[[[ 1,  2],\n",
       "         [ 3,  4],\n",
       "         [92,  2]],\n",
       "\n",
       "        [[ 4,  6],\n",
       "         [29,  4],\n",
       "         [19,  1]]]])"
      ]
     },
     "execution_count": 17,
     "metadata": {},
     "output_type": "execute_result"
    }
   ],
   "source": [
    "arr13= np.array([  [  [  [ 1,2],[3,4],[92,2] ],[[4,6],[29,4],[19,1 ]   ] ]]) #it is a 3d array\n",
    "arr13"
   ]
  },
  {
   "cell_type": "code",
   "execution_count": 18,
   "id": "07796954",
   "metadata": {},
   "outputs": [
    {
     "data": {
      "text/plain": [
       "(1, 2, 3, 2)"
      ]
     },
     "execution_count": 18,
     "metadata": {},
     "output_type": "execute_result"
    }
   ],
   "source": [
    "arr13.shape # gives the shape of array"
   ]
  },
  {
   "cell_type": "code",
   "execution_count": 19,
   "id": "66249b02",
   "metadata": {},
   "outputs": [
    {
     "data": {
      "text/plain": [
       "4"
      ]
     },
     "execution_count": 19,
     "metadata": {},
     "output_type": "execute_result"
    }
   ],
   "source": [
    "arr13.ndim #give's the dimenshions and it is a attribute"
   ]
  },
  {
   "cell_type": "code",
   "execution_count": 20,
   "id": "90284054",
   "metadata": {},
   "outputs": [
    {
     "data": {
      "text/plain": [
       "array([1, 3, 5, 6])"
      ]
     },
     "execution_count": 20,
     "metadata": {},
     "output_type": "execute_result"
    }
   ],
   "source": [
    "arr1"
   ]
  },
  {
   "cell_type": "code",
   "execution_count": 21,
   "id": "98749bc3",
   "metadata": {},
   "outputs": [
    {
     "data": {
      "text/plain": [
       "4"
      ]
     },
     "execution_count": 21,
     "metadata": {},
     "output_type": "execute_result"
    }
   ],
   "source": [
    "arr1.size #give's the size of array"
   ]
  },
  {
   "cell_type": "code",
   "execution_count": 22,
   "id": "d6bd7677",
   "metadata": {},
   "outputs": [
    {
     "data": {
      "text/plain": [
       "12"
      ]
     },
     "execution_count": 22,
     "metadata": {},
     "output_type": "execute_result"
    }
   ],
   "source": [
    "arr13.size"
   ]
  },
  {
   "cell_type": "code",
   "execution_count": 23,
   "id": "660f1425",
   "metadata": {},
   "outputs": [
    {
     "data": {
      "text/plain": [
       "4"
      ]
     },
     "execution_count": 23,
     "metadata": {},
     "output_type": "execute_result"
    }
   ],
   "source": [
    "arr13.itemsize # each occupies the 4byte memory that's why it's give a 4"
   ]
  },
  {
   "cell_type": "code",
   "execution_count": 24,
   "id": "bca29404",
   "metadata": {},
   "outputs": [
    {
     "data": {
      "text/plain": [
       "4"
      ]
     },
     "execution_count": 24,
     "metadata": {},
     "output_type": "execute_result"
    }
   ],
   "source": [
    "arr1.itemsize #same here also"
   ]
  },
  {
   "cell_type": "code",
   "execution_count": 25,
   "id": "572a3196",
   "metadata": {},
   "outputs": [
    {
     "data": {
      "text/plain": [
       "array([[1, 2, 3],\n",
       "       [1, 2, 3]])"
      ]
     },
     "execution_count": 25,
     "metadata": {},
     "output_type": "execute_result"
    }
   ],
   "source": [
    "arr2"
   ]
  },
  {
   "cell_type": "code",
   "execution_count": 26,
   "id": "79e39a27",
   "metadata": {},
   "outputs": [
    {
     "data": {
      "text/plain": [
       "4"
      ]
     },
     "execution_count": 26,
     "metadata": {},
     "output_type": "execute_result"
    }
   ],
   "source": [
    "arr2.itemsize"
   ]
  },
  {
   "cell_type": "code",
   "execution_count": 27,
   "id": "1ca3212f",
   "metadata": {},
   "outputs": [
    {
     "data": {
      "text/plain": [
       "array([[1., 1., 1.],\n",
       "       [1., 1., 1.],\n",
       "       [1., 1., 1.]])"
      ]
     },
     "execution_count": 27,
     "metadata": {},
     "output_type": "execute_result"
    }
   ],
   "source": [
    "arr5"
   ]
  },
  {
   "cell_type": "code",
   "execution_count": 28,
   "id": "70edc2eb",
   "metadata": {},
   "outputs": [
    {
     "data": {
      "text/plain": [
       "8"
      ]
     },
     "execution_count": 28,
     "metadata": {},
     "output_type": "execute_result"
    }
   ],
   "source": [
    "arr5.itemsize #it's give a 8 because the size of data is 8 bytes and they are a float"
   ]
  },
  {
   "cell_type": "code",
   "execution_count": 29,
   "id": "b28e2fa3",
   "metadata": {},
   "outputs": [
    {
     "data": {
      "text/plain": [
       "array([[1, 2, 3],\n",
       "       [1, 2, 3]])"
      ]
     },
     "execution_count": 29,
     "metadata": {},
     "output_type": "execute_result"
    }
   ],
   "source": [
    "arr2"
   ]
  },
  {
   "cell_type": "code",
   "execution_count": 30,
   "id": "9e0264af",
   "metadata": {},
   "outputs": [
    {
     "data": {
      "text/plain": [
       "dtype('int32')"
      ]
     },
     "execution_count": 30,
     "metadata": {},
     "output_type": "execute_result"
    }
   ],
   "source": [
    "arr2.dtype # data type of arr2 is int"
   ]
  },
  {
   "cell_type": "code",
   "execution_count": 31,
   "id": "aa6808b7",
   "metadata": {},
   "outputs": [
    {
     "data": {
      "text/plain": [
       "array([[1., 1., 1.],\n",
       "       [1., 1., 1.],\n",
       "       [1., 1., 1.]])"
      ]
     },
     "execution_count": 31,
     "metadata": {},
     "output_type": "execute_result"
    }
   ],
   "source": [
    "arr5"
   ]
  },
  {
   "cell_type": "code",
   "execution_count": 32,
   "id": "b0794647",
   "metadata": {},
   "outputs": [
    {
     "data": {
      "text/plain": [
       "dtype('float64')"
      ]
     },
     "execution_count": 32,
     "metadata": {},
     "output_type": "execute_result"
    }
   ],
   "source": [
    "arr5.dtype # data type is float"
   ]
  },
  {
   "cell_type": "code",
   "execution_count": 33,
   "id": "cdb0d811",
   "metadata": {},
   "outputs": [
    {
     "data": {
      "text/plain": [
       "array([[1., 1., 1.],\n",
       "       [1., 1., 1.],\n",
       "       [1., 1., 1.]])"
      ]
     },
     "execution_count": 33,
     "metadata": {},
     "output_type": "execute_result"
    }
   ],
   "source": [
    "arr5.astype('float')# convert int to float means typecasting"
   ]
  },
  {
   "cell_type": "code",
   "execution_count": 34,
   "id": "71ebb3d1",
   "metadata": {},
   "outputs": [
    {
     "data": {
      "text/plain": [
       "array([['abhi'],\n",
       "       ['ani'],\n",
       "       ['meena'],\n",
       "       ['pravin']], dtype='<U6')"
      ]
     },
     "execution_count": 34,
     "metadata": {},
     "output_type": "execute_result"
    }
   ],
   "source": [
    "arr15 =np.array([[\"abhi\"],[\"ani\"],[\"meena\"],[\"pravin\"]])\n",
    "arr15"
   ]
  },
  {
   "cell_type": "code",
   "execution_count": 35,
   "id": "0007f9cb",
   "metadata": {},
   "outputs": [
    {
     "data": {
      "text/plain": [
       "dtype('<U6')"
      ]
     },
     "execution_count": 35,
     "metadata": {},
     "output_type": "execute_result"
    }
   ],
   "source": [
    "arr15.dtype"
   ]
  },
  {
   "cell_type": "code",
   "execution_count": 36,
   "id": "b6ccc6d2",
   "metadata": {},
   "outputs": [
    {
     "data": {
      "text/plain": [
       "24"
      ]
     },
     "execution_count": 36,
     "metadata": {},
     "output_type": "execute_result"
    }
   ],
   "source": [
    "arr15.itemsize"
   ]
  },
  {
   "cell_type": "code",
   "execution_count": 37,
   "id": "7cca5203",
   "metadata": {},
   "outputs": [
    {
     "data": {
      "text/plain": [
       "4"
      ]
     },
     "execution_count": 37,
     "metadata": {},
     "output_type": "execute_result"
    }
   ],
   "source": [
    "arr15.size"
   ]
  },
  {
   "cell_type": "code",
   "execution_count": 38,
   "id": "4f458520",
   "metadata": {},
   "outputs": [],
   "source": [
    "#3.Indexing ,Slicing and iteration------------------------------------------------"
   ]
  },
  {
   "cell_type": "code",
   "execution_count": 39,
   "id": "831de77b",
   "metadata": {},
   "outputs": [
    {
     "data": {
      "text/plain": [
       "array([[ 0,  1,  2,  3],\n",
       "       [ 4,  5,  6,  7],\n",
       "       [ 8,  9, 10, 11],\n",
       "       [12, 13, 14, 15],\n",
       "       [16, 17, 18, 19],\n",
       "       [20, 21, 22, 23]])"
      ]
     },
     "execution_count": 39,
     "metadata": {},
     "output_type": "execute_result"
    }
   ],
   "source": [
    "a1=np.arange(24).reshape(6,4) # with the help of reshape we can change the rows and columns\n",
    "a1"
   ]
  },
  {
   "cell_type": "code",
   "execution_count": 40,
   "id": "c25928c5",
   "metadata": {},
   "outputs": [
    {
     "data": {
      "text/plain": [
       "6"
      ]
     },
     "execution_count": 40,
     "metadata": {},
     "output_type": "execute_result"
    }
   ],
   "source": [
    "arr1[2]# it is same like a array indexing ok abhishek\n",
    "arr1[1:3]\n",
    "arr1[-1]"
   ]
  },
  {
   "cell_type": "code",
   "execution_count": 41,
   "id": "932ed5f3",
   "metadata": {},
   "outputs": [
    {
     "data": {
      "text/plain": [
       "array([[ 8,  9, 10, 11]])"
      ]
     },
     "execution_count": 41,
     "metadata": {},
     "output_type": "execute_result"
    }
   ],
   "source": [
    "a1[2:3] #slicing "
   ]
  },
  {
   "cell_type": "code",
   "execution_count": 42,
   "id": "8edd736f",
   "metadata": {},
   "outputs": [
    {
     "data": {
      "text/plain": [
       "array([ 2,  6, 10, 14, 18, 22])"
      ]
     },
     "execution_count": 42,
     "metadata": {},
     "output_type": "execute_result"
    }
   ],
   "source": [
    "a1[:,2]"
   ]
  },
  {
   "cell_type": "code",
   "execution_count": 43,
   "id": "2ec91867",
   "metadata": {},
   "outputs": [
    {
     "data": {
      "text/plain": [
       "array([[ 1,  2],\n",
       "       [ 5,  6],\n",
       "       [ 9, 10],\n",
       "       [13, 14],\n",
       "       [17, 18],\n",
       "       [21, 22]])"
      ]
     },
     "execution_count": 43,
     "metadata": {},
     "output_type": "execute_result"
    }
   ],
   "source": [
    "a1[:,1:3]"
   ]
  },
  {
   "cell_type": "code",
   "execution_count": 44,
   "id": "06654dc4",
   "metadata": {},
   "outputs": [
    {
     "data": {
      "text/plain": [
       "array([[ 9, 10],\n",
       "       [13, 14]])"
      ]
     },
     "execution_count": 44,
     "metadata": {},
     "output_type": "execute_result"
    }
   ],
   "source": [
    "a1[2:4,1:3]"
   ]
  },
  {
   "cell_type": "code",
   "execution_count": 45,
   "id": "0cb349d0",
   "metadata": {},
   "outputs": [
    {
     "data": {
      "text/plain": [
       "array([[18, 19],\n",
       "       [22, 23]])"
      ]
     },
     "execution_count": 45,
     "metadata": {},
     "output_type": "execute_result"
    }
   ],
   "source": [
    "a1[4:,2:]"
   ]
  },
  {
   "cell_type": "code",
   "execution_count": 46,
   "id": "a5a0e2e4",
   "metadata": {},
   "outputs": [
    {
     "data": {
      "text/plain": [
       "array([[1, 2],\n",
       "       [5, 6]])"
      ]
     },
     "execution_count": 46,
     "metadata": {},
     "output_type": "execute_result"
    }
   ],
   "source": [
    "a1[0:2,1:3]"
   ]
  },
  {
   "cell_type": "code",
   "execution_count": 47,
   "id": "e1caec84",
   "metadata": {},
   "outputs": [
    {
     "data": {
      "text/plain": [
       "array([[16, 17],\n",
       "       [20, 21]])"
      ]
     },
     "execution_count": 47,
     "metadata": {},
     "output_type": "execute_result"
    }
   ],
   "source": [
    "a1[4:,:2]"
   ]
  },
  {
   "cell_type": "code",
   "execution_count": 48,
   "id": "4d6c7699",
   "metadata": {},
   "outputs": [
    {
     "name": "stdout",
     "output_type": "stream",
     "text": [
      "[0 1 2 3]\n",
      "[4 5 6 7]\n",
      "[ 8  9 10 11]\n",
      "[12 13 14 15]\n",
      "[16 17 18 19]\n",
      "[20 21 22 23]\n"
     ]
    }
   ],
   "source": [
    "#iteration\n",
    "for i in a1:\n",
    "    print(i)"
   ]
  },
  {
   "cell_type": "code",
   "execution_count": 49,
   "id": "73997d86",
   "metadata": {},
   "outputs": [
    {
     "name": "stdout",
     "output_type": "stream",
     "text": [
      "0\n",
      "1\n",
      "2\n",
      "3\n",
      "4\n",
      "5\n",
      "6\n",
      "7\n",
      "8\n",
      "9\n",
      "10\n",
      "11\n",
      "12\n",
      "13\n",
      "14\n",
      "15\n",
      "16\n",
      "17\n",
      "18\n",
      "19\n",
      "20\n",
      "21\n",
      "22\n",
      "23\n"
     ]
    }
   ],
   "source": [
    "for i in np.nditer(a1): #np.nditer is build in function in numpy \n",
    "    print(i)"
   ]
  },
  {
   "cell_type": "code",
   "execution_count": 50,
   "id": "b94203c2",
   "metadata": {},
   "outputs": [],
   "source": [
    "#4. Numpy Operations------------------------------------------------------"
   ]
  },
  {
   "cell_type": "code",
   "execution_count": 51,
   "id": "476af4ec",
   "metadata": {},
   "outputs": [],
   "source": [
    "arr1 = np.array([1,2,3,4,5,6])\n",
    "arr2= np.array([4,5,6,7,8,9])"
   ]
  },
  {
   "cell_type": "code",
   "execution_count": 52,
   "id": "d391cb8d",
   "metadata": {},
   "outputs": [
    {
     "data": {
      "text/plain": [
       "array([-3, -3, -3, -3, -3, -3])"
      ]
     },
     "execution_count": 52,
     "metadata": {},
     "output_type": "execute_result"
    }
   ],
   "source": [
    "arr1 - arr2  #sub"
   ]
  },
  {
   "cell_type": "code",
   "execution_count": 53,
   "id": "1d6e14f4",
   "metadata": {},
   "outputs": [
    {
     "data": {
      "text/plain": [
       "array([ 4, 10, 18, 28, 40, 54])"
      ]
     },
     "execution_count": 53,
     "metadata": {},
     "output_type": "execute_result"
    }
   ],
   "source": [
    "arr1 * arr2 #vector mulication ( such as arr1 and arr2 treatd as a vector so that's why called vector)"
   ]
  },
  {
   "cell_type": "code",
   "execution_count": 54,
   "id": "d1e18c88",
   "metadata": {},
   "outputs": [
    {
     "data": {
      "text/plain": [
       "array([ 2,  4,  6,  8, 10, 12])"
      ]
     },
     "execution_count": 54,
     "metadata": {},
     "output_type": "execute_result"
    }
   ],
   "source": [
    "arr1*2 #it is a scaler mulitiplication(arr1 is vector here and 2 is the scaler value so it is a scaler)"
   ]
  },
  {
   "cell_type": "code",
   "execution_count": 55,
   "id": "33bbe7c7",
   "metadata": {},
   "outputs": [
    {
     "data": {
      "text/plain": [
       "array([ True,  True,  True,  True,  True,  True])"
      ]
     },
     "execution_count": 55,
     "metadata": {},
     "output_type": "execute_result"
    }
   ],
   "source": [
    "arr2>3 #where the condition is satisfied in arr2 it is print true"
   ]
  },
  {
   "cell_type": "code",
   "execution_count": 56,
   "id": "5bd41e94",
   "metadata": {},
   "outputs": [],
   "source": [
    "arr3=np.arange(6).reshape(2,3)\n",
    "arr4=np.arange(6,12).reshape(3,2)"
   ]
  },
  {
   "cell_type": "code",
   "execution_count": 57,
   "id": "a0b9e71c",
   "metadata": {},
   "outputs": [
    {
     "data": {
      "text/plain": [
       "array([[0, 1, 2],\n",
       "       [3, 4, 5]])"
      ]
     },
     "execution_count": 57,
     "metadata": {},
     "output_type": "execute_result"
    }
   ],
   "source": [
    "arr3"
   ]
  },
  {
   "cell_type": "code",
   "execution_count": 58,
   "id": "cbf395dd",
   "metadata": {},
   "outputs": [
    {
     "data": {
      "text/plain": [
       "array([[ 6,  7],\n",
       "       [ 8,  9],\n",
       "       [10, 11]])"
      ]
     },
     "execution_count": 58,
     "metadata": {},
     "output_type": "execute_result"
    }
   ],
   "source": [
    "arr4"
   ]
  },
  {
   "cell_type": "code",
   "execution_count": 59,
   "id": "2a85ca54",
   "metadata": {},
   "outputs": [
    {
     "data": {
      "text/plain": [
       "array([[ 28,  31],\n",
       "       [100, 112]])"
      ]
     },
     "execution_count": 59,
     "metadata": {},
     "output_type": "execute_result"
    }
   ],
   "source": [
    "arr3.dot(arr4)"
   ]
  },
  {
   "cell_type": "code",
   "execution_count": 60,
   "id": "9cd6197c",
   "metadata": {},
   "outputs": [
    {
     "ename": "ValueError",
     "evalue": "shapes (6,) and (2,3) not aligned: 6 (dim 0) != 2 (dim 0)",
     "output_type": "error",
     "traceback": [
      "\u001b[1;31m---------------------------------------------------------------------------\u001b[0m",
      "\u001b[1;31mValueError\u001b[0m                                Traceback (most recent call last)",
      "Input \u001b[1;32mIn [60]\u001b[0m, in \u001b[0;36m<cell line: 1>\u001b[1;34m()\u001b[0m\n\u001b[1;32m----> 1\u001b[0m \u001b[43marr1\u001b[49m\u001b[38;5;241;43m.\u001b[39;49m\u001b[43mdot\u001b[49m\u001b[43m(\u001b[49m\u001b[43marr3\u001b[49m\u001b[43m)\u001b[49m\n",
      "\u001b[1;31mValueError\u001b[0m: shapes (6,) and (2,3) not aligned: 6 (dim 0) != 2 (dim 0)"
     ]
    }
   ],
   "source": [
    "arr1.dot(arr3)"
   ]
  },
  {
   "cell_type": "code",
   "execution_count": null,
   "id": "03c65b10",
   "metadata": {},
   "outputs": [],
   "source": [
    "arr3"
   ]
  },
  {
   "cell_type": "code",
   "execution_count": 64,
   "id": "9d2724f5",
   "metadata": {},
   "outputs": [
    {
     "data": {
      "text/plain": [
       "0"
      ]
     },
     "execution_count": 64,
     "metadata": {},
     "output_type": "execute_result"
    }
   ],
   "source": [
    "arr3.min()"
   ]
  },
  {
   "cell_type": "code",
   "execution_count": 65,
   "id": "21694f13",
   "metadata": {},
   "outputs": [
    {
     "data": {
      "text/plain": [
       "5"
      ]
     },
     "execution_count": 65,
     "metadata": {},
     "output_type": "execute_result"
    }
   ],
   "source": [
    "arr3.max()"
   ]
  },
  {
   "cell_type": "code",
   "execution_count": 61,
   "id": "e2f8bb9a",
   "metadata": {},
   "outputs": [
    {
     "data": {
      "text/plain": [
       "array([[ 6,  7],\n",
       "       [ 8,  9],\n",
       "       [10, 11]])"
      ]
     },
     "execution_count": 61,
     "metadata": {},
     "output_type": "execute_result"
    }
   ],
   "source": [
    "arr4"
   ]
  },
  {
   "cell_type": "code",
   "execution_count": 62,
   "id": "e978d460",
   "metadata": {},
   "outputs": [
    {
     "data": {
      "text/plain": [
       "array([6, 7])"
      ]
     },
     "execution_count": 62,
     "metadata": {},
     "output_type": "execute_result"
    }
   ],
   "source": [
    "arr4.min(axis=0) #print column wise min value"
   ]
  },
  {
   "cell_type": "code",
   "execution_count": 63,
   "id": "1276826d",
   "metadata": {},
   "outputs": [
    {
     "data": {
      "text/plain": [
       "array([ 6,  8, 10])"
      ]
     },
     "execution_count": 63,
     "metadata": {},
     "output_type": "execute_result"
    }
   ],
   "source": [
    "arr4.min(axis=1) # print row wise min value"
   ]
  },
  {
   "cell_type": "code",
   "execution_count": 67,
   "id": "ef50a216",
   "metadata": {},
   "outputs": [
    {
     "data": {
      "text/plain": [
       "array([6, 7])"
      ]
     },
     "execution_count": 67,
     "metadata": {},
     "output_type": "execute_result"
    }
   ],
   "source": [
    "arr4.max(axis=0) # print col wise max value"
   ]
  },
  {
   "cell_type": "code",
   "execution_count": 68,
   "id": "4ec83bed",
   "metadata": {},
   "outputs": [
    {
     "data": {
      "text/plain": [
       "array([ 7,  9, 11])"
      ]
     },
     "execution_count": 68,
     "metadata": {},
     "output_type": "execute_result"
    }
   ],
   "source": [
    "arr4.max(axis=1)# print row wise max value"
   ]
  },
  {
   "cell_type": "code",
   "execution_count": 69,
   "id": "5d70e7b5",
   "metadata": {},
   "outputs": [
    {
     "data": {
      "text/plain": [
       "51"
      ]
     },
     "execution_count": 69,
     "metadata": {},
     "output_type": "execute_result"
    }
   ],
   "source": [
    "arr4.sum() #print the sum of whole array"
   ]
  },
  {
   "cell_type": "code",
   "execution_count": 70,
   "id": "133251a5",
   "metadata": {},
   "outputs": [
    {
     "data": {
      "text/plain": [
       "array([24, 27])"
      ]
     },
     "execution_count": 70,
     "metadata": {},
     "output_type": "execute_result"
    }
   ],
   "source": [
    "arr4.sum(axis=0) #print the sum of col wise"
   ]
  },
  {
   "cell_type": "code",
   "execution_count": 71,
   "id": "67daa9be",
   "metadata": {},
   "outputs": [
    {
     "data": {
      "text/plain": [
       "array([13, 17, 21])"
      ]
     },
     "execution_count": 71,
     "metadata": {},
     "output_type": "execute_result"
    }
   ],
   "source": [
    "arr4.sum(axis=1) #print the sum of col wise"
   ]
  },
  {
   "cell_type": "code",
   "execution_count": 72,
   "id": "75d3df19",
   "metadata": {},
   "outputs": [
    {
     "data": {
      "text/plain": [
       "8.5"
      ]
     },
     "execution_count": 72,
     "metadata": {},
     "output_type": "execute_result"
    }
   ],
   "source": [
    "arr4.mean() #caculate the mean,(sum of array / no.of elements in array)=mean ex: 51/6=8.5}"
   ]
  },
  {
   "cell_type": "code",
   "execution_count": 73,
   "id": "f1044a8e",
   "metadata": {},
   "outputs": [
    {
     "data": {
      "text/plain": [
       "1.707825127659933"
      ]
     },
     "execution_count": 73,
     "metadata": {},
     "output_type": "execute_result"
    }
   ],
   "source": [
    "arr4.std() # please check here:  https://www.geeksforgeeks.org/numpy-std-in-python/"
   ]
  },
  {
   "cell_type": "code",
   "execution_count": 74,
   "id": "c795c0eb",
   "metadata": {},
   "outputs": [
    {
     "data": {
      "text/plain": [
       "8.5"
      ]
     },
     "execution_count": 74,
     "metadata": {},
     "output_type": "execute_result"
    }
   ],
   "source": [
    "np.median(arr4)"
   ]
  },
  {
   "cell_type": "code",
   "execution_count": 75,
   "id": "4d67b48b",
   "metadata": {},
   "outputs": [
    {
     "data": {
      "text/plain": [
       "array([[-0.2794155 ,  0.6569866 ],\n",
       "       [ 0.98935825,  0.41211849],\n",
       "       [-0.54402111, -0.99999021]])"
      ]
     },
     "execution_count": 75,
     "metadata": {},
     "output_type": "execute_result"
    }
   ],
   "source": [
    "np.sin(arr4)"
   ]
  },
  {
   "cell_type": "code",
   "execution_count": null,
   "id": "48f021a3",
   "metadata": {},
   "outputs": [],
   "source": [
    "np.cos(arr4)"
   ]
  },
  {
   "cell_type": "code",
   "execution_count": null,
   "id": "94e8564c",
   "metadata": {},
   "outputs": [],
   "source": [
    "np.exp(arr4)"
   ]
  },
  {
   "cell_type": "code",
   "execution_count": null,
   "id": "2ac4b955",
   "metadata": {},
   "outputs": [],
   "source": [
    "#5 Reshaping numpy array--------------------------------------------------------"
   ]
  },
  {
   "cell_type": "code",
   "execution_count": 77,
   "id": "4131f5c6",
   "metadata": {},
   "outputs": [
    {
     "data": {
      "text/plain": [
       "array([[ 6,  7],\n",
       "       [ 8,  9],\n",
       "       [10, 11]])"
      ]
     },
     "execution_count": 77,
     "metadata": {},
     "output_type": "execute_result"
    }
   ],
   "source": [
    "arr4"
   ]
  },
  {
   "cell_type": "code",
   "execution_count": 76,
   "id": "73097227",
   "metadata": {},
   "outputs": [
    {
     "data": {
      "text/plain": [
       "array([ 6,  7,  8,  9, 10, 11])"
      ]
     },
     "execution_count": 76,
     "metadata": {},
     "output_type": "execute_result"
    }
   ],
   "source": [
    "arr4.ravel() #it convert n dimentions to 1D array"
   ]
  },
  {
   "cell_type": "code",
   "execution_count": 78,
   "id": "fcd90037",
   "metadata": {},
   "outputs": [
    {
     "data": {
      "text/plain": [
       "array([[ 6,  8, 10],\n",
       "       [ 7,  9, 11]])"
      ]
     },
     "execution_count": 78,
     "metadata": {},
     "output_type": "execute_result"
    }
   ],
   "source": [
    "arr4.transpose() # rows are col and col are row"
   ]
  },
  {
   "cell_type": "code",
   "execution_count": null,
   "id": "ecdf8f37",
   "metadata": {},
   "outputs": [],
   "source": [
    "arr5 = np.arange(12,18).reshape(2,3)\n",
    "arr5"
   ]
  },
  {
   "cell_type": "code",
   "execution_count": null,
   "id": "8f16e875",
   "metadata": {},
   "outputs": [],
   "source": [
    "arr6 =np.arange(18,24).reshape(2,3)\n",
    "arr6"
   ]
  },
  {
   "cell_type": "code",
   "execution_count": null,
   "id": "7b3b9dcb",
   "metadata": {},
   "outputs": [],
   "source": [
    "np.hstack((arr5,arr6)) #h-stack (horizontal stack) add the 2 array horizontally"
   ]
  },
  {
   "cell_type": "code",
   "execution_count": null,
   "id": "de6184d6",
   "metadata": {},
   "outputs": [],
   "source": [
    "np.vstack((arr5,arr6)) #h-stack (vertically stack) add the 2 array vertizontally"
   ]
  },
  {
   "cell_type": "code",
   "execution_count": null,
   "id": "e13bccb4",
   "metadata": {},
   "outputs": [],
   "source": [
    "arr3"
   ]
  },
  {
   "cell_type": "code",
   "execution_count": null,
   "id": "d3df459c",
   "metadata": {},
   "outputs": [],
   "source": [
    "np.hsplit(arr3,3) #horizontall split "
   ]
  },
  {
   "cell_type": "code",
   "execution_count": null,
   "id": "b7c4581e",
   "metadata": {},
   "outputs": [],
   "source": [
    "np.vsplit(arr3,2)"
   ]
  },
  {
   "cell_type": "code",
   "execution_count": null,
   "id": "da4c0a11",
   "metadata": {},
   "outputs": [],
   "source": [
    "#6. indexing and boolean arrays------------------------------------------------\n",
    "import numpy as np"
   ]
  },
  {
   "cell_type": "code",
   "execution_count": null,
   "id": "ca4f4572",
   "metadata": {
    "scrolled": true
   },
   "outputs": [],
   "source": [
    "arr=np.random.randint(low=1,high=100,size=20).reshape(4,5)\n",
    "arr"
   ]
  },
  {
   "cell_type": "code",
   "execution_count": null,
   "id": "fb092111",
   "metadata": {},
   "outputs": [],
   "source": [
    "arr[arr>50] #only those elemenet are remaining which has satisfied the condtition"
   ]
  },
  {
   "cell_type": "code",
   "execution_count": null,
   "id": "61821057",
   "metadata": {},
   "outputs": [],
   "source": [
    "arr[(arr<30)&(arr%2==0)] #these is saying the indexing with boolean array "
   ]
  },
  {
   "cell_type": "code",
   "execution_count": null,
   "id": "a2bdefcd",
   "metadata": {},
   "outputs": [],
   "source": [
    "arr[(arr<30)&(arr%2==0)]=0 #these is saying the indexing with boolean array \n",
    "arr"
   ]
  },
  {
   "cell_type": "code",
   "execution_count": null,
   "id": "c6561dde",
   "metadata": {
    "scrolled": true
   },
   "outputs": [],
   "source": [
    "#fancy indexing \n",
    "import numpy as np\n",
    "arr8=np.arange(24).reshape(6,4)\n",
    "arr8"
   ]
  },
  {
   "cell_type": "code",
   "execution_count": null,
   "id": "29d3effc",
   "metadata": {
    "scrolled": true
   },
   "outputs": [],
   "source": [
    "arr8[[0,2,4]] #stars from 0 and 2 rows here and 4 columns"
   ]
  },
  {
   "cell_type": "code",
   "execution_count": null,
   "id": "83f2d771",
   "metadata": {},
   "outputs": [],
   "source": [
    "#7.Plotting graphs using Numpy---------------------------------"
   ]
  },
  {
   "cell_type": "code",
   "execution_count": null,
   "id": "5433cbbd",
   "metadata": {},
   "outputs": [],
   "source": [
    "x = np.linspace(-10,10,20)# starts from -10 and end at 10 including 20 elements\n",
    "x"
   ]
  },
  {
   "cell_type": "code",
   "execution_count": null,
   "id": "18c54051",
   "metadata": {},
   "outputs": [],
   "source": [
    "x.size\n"
   ]
  },
  {
   "cell_type": "code",
   "execution_count": null,
   "id": "9056bee5",
   "metadata": {},
   "outputs": [],
   "source": [
    "y =np.sin(x) #create an variale which store the sin of x data\n",
    "y"
   ]
  },
  {
   "cell_type": "code",
   "execution_count": null,
   "id": "b6079aca",
   "metadata": {},
   "outputs": [],
   "source": [
    "y.size"
   ]
  },
  {
   "cell_type": "code",
   "execution_count": null,
   "id": "e6b93e1c",
   "metadata": {},
   "outputs": [],
   "source": [
    "import matplotlib.pyplot as plt #inside matplotlib pyplot the graphs are available  #this is use for print or say stay on the screen as a getc in c\n",
    "%matplotlib inline"
   ]
  },
  {
   "cell_type": "code",
   "execution_count": null,
   "id": "d9008991",
   "metadata": {},
   "outputs": [],
   "source": [
    "plt.plot(x,y)"
   ]
  },
  {
   "cell_type": "code",
   "execution_count": null,
   "id": "88416bc2",
   "metadata": {},
   "outputs": [],
   "source": [
    "y=x*x+2*x+6   #this is the qudratic equation"
   ]
  },
  {
   "cell_type": "code",
   "execution_count": null,
   "id": "92718f1e",
   "metadata": {},
   "outputs": [],
   "source": [
    "plt.plot(x,y)"
   ]
  },
  {
   "cell_type": "code",
   "execution_count": null,
   "id": "b616fb4d",
   "metadata": {},
   "outputs": [],
   "source": [
    "y = x+x+x\n",
    "plt.plot(x,y)"
   ]
  },
  {
   "cell_type": "code",
   "execution_count": null,
   "id": "1180a95f",
   "metadata": {},
   "outputs": [],
   "source": [
    "y = np.linspace(1,5,5)\n",
    "y"
   ]
  },
  {
   "cell_type": "code",
   "execution_count": null,
   "id": "b399f860",
   "metadata": {},
   "outputs": [],
   "source": [
    "import matplotlib.pyplot as plt\n"
   ]
  },
  {
   "cell_type": "code",
   "execution_count": null,
   "id": "b1d5019a",
   "metadata": {},
   "outputs": [],
   "source": [
    "y =x+x\n",
    "plt.plot(x,y)"
   ]
  },
  {
   "cell_type": "code",
   "execution_count": null,
   "id": "6a9f4ab6",
   "metadata": {},
   "outputs": [],
   "source": [
    "#8- Broadcasting----------------------------------------------------"
   ]
  },
  {
   "cell_type": "code",
   "execution_count": null,
   "id": "cc0ae2c6",
   "metadata": {},
   "outputs": [],
   "source": [
    "#scenario-1\n",
    "a1 = np.arange(8).reshape(2,4)\n",
    "a2 = np.arange(8,16).reshape(2,4)\n",
    "print(a1)\n",
    "print(a2)"
   ]
  },
  {
   "cell_type": "code",
   "execution_count": null,
   "id": "722d7f20",
   "metadata": {},
   "outputs": [],
   "source": [
    "a1+a2"
   ]
  },
  {
   "cell_type": "code",
   "execution_count": null,
   "id": "6ca04fea",
   "metadata": {},
   "outputs": [],
   "source": [
    "#scenario-2\n",
    "a3=np.arange(9).reshape(3,3)\n",
    "a4=np.arange(3).reshape(1,3)\n",
    "print(a3,a4)"
   ]
  },
  {
   "cell_type": "code",
   "execution_count": null,
   "id": "7a908bfc",
   "metadata": {},
   "outputs": [],
   "source": [
    "a3+a4"
   ]
  },
  {
   "cell_type": "code",
   "execution_count": null,
   "id": "7a4dcd8e",
   "metadata": {},
   "outputs": [],
   "source": [
    "#-9--------------------------------numpy functions-----------------------------------"
   ]
  },
  {
   "cell_type": "code",
   "execution_count": null,
   "id": "d4b79f06",
   "metadata": {},
   "outputs": [],
   "source": [
    "np.random.random()"
   ]
  },
  {
   "cell_type": "code",
   "execution_count": null,
   "id": "344912d7",
   "metadata": {},
   "outputs": [],
   "source": [
    "np.random.seed(1)\n",
    "np.random.random()"
   ]
  },
  {
   "cell_type": "code",
   "execution_count": null,
   "id": "85742f67",
   "metadata": {},
   "outputs": [],
   "source": [
    "np.random.uniform(1,10)"
   ]
  },
  {
   "cell_type": "code",
   "execution_count": null,
   "id": "44fcaad7",
   "metadata": {},
   "outputs": [],
   "source": [
    "np.random.uniform(1,10,10).reshape(2,5)"
   ]
  },
  {
   "cell_type": "code",
   "execution_count": null,
   "id": "6639d132",
   "metadata": {},
   "outputs": [],
   "source": [
    "np.random.randint(1,10,10).reshape(2,5)"
   ]
  },
  {
   "cell_type": "code",
   "execution_count": null,
   "id": "ddd642c7",
   "metadata": {},
   "outputs": [],
   "source": [
    "a=np.random.randint(1,50,6)"
   ]
  },
  {
   "cell_type": "code",
   "execution_count": null,
   "id": "9cd6ad74",
   "metadata": {},
   "outputs": [],
   "source": [
    "np.sort(a)"
   ]
  },
  {
   "cell_type": "code",
   "execution_count": null,
   "id": "34315eae",
   "metadata": {},
   "outputs": [],
   "source": [
    "np.percentile(a,2)"
   ]
  },
  {
   "cell_type": "code",
   "execution_count": null,
   "id": "856dc735",
   "metadata": {},
   "outputs": [],
   "source": [
    "# End numpy"
   ]
  }
 ],
 "metadata": {
  "kernelspec": {
   "display_name": "Python 3 (ipykernel)",
   "language": "python",
   "name": "python3"
  },
  "language_info": {
   "codemirror_mode": {
    "name": "ipython",
    "version": 3
   },
   "file_extension": ".py",
   "mimetype": "text/x-python",
   "name": "python",
   "nbconvert_exporter": "python",
   "pygments_lexer": "ipython3",
   "version": "3.9.12"
  }
 },
 "nbformat": 4,
 "nbformat_minor": 5
}
